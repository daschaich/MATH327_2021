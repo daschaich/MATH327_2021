{
  "nbformat": 4,
  "nbformat_minor": 0,
  "metadata": {
    "colab": {
      "name": "demo.ipynb",
      "provenance": [],
      "authorship_tag": "ABX9TyOekvL0Nq9cA6hABSgs07Zm",
      "include_colab_link": true
    },
    "kernelspec": {
      "name": "python3",
      "display_name": "Python 3"
    }
  },
  "cells": [
    {
      "cell_type": "markdown",
      "metadata": {
        "id": "view-in-github",
        "colab_type": "text"
      },
      "source": [
        "<a href=\"https://colab.research.google.com/github/daschaich/MATH327_2021/blob/master/computer_project/demo.ipynb\" target=\"_parent\"><img src=\"https://colab.research.google.com/assets/colab-badge.svg\" alt=\"Open In Colab\"/></a>"
      ]
    },
    {
      "cell_type": "markdown",
      "metadata": {
        "id": "AxT4sT4xUWi6",
        "colab_type": "text"
      },
      "source": [
        "When I have a chance, I will import my python demo for the MATH327 computer project, and convert its comments to formatted text..."
      ]
    },
    {
      "cell_type": "code",
      "metadata": {
        "id": "O5D8mccsUSfz",
        "colab_type": "code",
        "colab": {}
      },
      "source": [
        "import math\n",
        "import random\n",
        "import numpy as np\n",
        "import matplotlib.pyplot as plt\n",
        "\n",
        "# Check distribution\n",
        "random.seed(314156)\n",
        "nSamples = 100000\n",
        "dat = []\n",
        "for i in range(0, nSamples):\n",
        "  dat.append(2.0 * math.sqrt(random.random()))\n",
        "\n",
        "nbins = 51\n",
        "plt.hist(dat, nbins)\n",
        "x = np.arange(0, 2, 0.01)\n",
        "y = 2000.0 * x\n",
        "plt.plot(x, y)\n",
        "plt.savefig('hist.png')\n",
        "\n",
        "# Compute walk lengths\n",
        "N_list = [10, 20, 30, 40, 50, 60, 70, 80]\n",
        "L = []\n",
        "for Nstep in N_list:\n",
        "  random.seed(314156)\n",
        "  L.append(0.0)\n",
        "  for i in range(0, nSamples):\n",
        "    d = 0.0\n",
        "    for step in range(0, Nstep):\n",
        "      d += 2.0 * math.sqrt(random.random())\n",
        "    L[-1] += d\n",
        "  L[-1] /= float(nSamples)\n",
        "\n",
        "# Check that walk lengths look reasonable\n",
        "plt.clf()\n",
        "plt.plot(N_list, L, linestyle='None', marker=\".\")\n",
        "\n",
        "# Fit walk lengths to straight line\n",
        "out = np.polyfit(N_list, L, 1)\n",
        "print(out)\n",
        "x = np.arange(0, 80, 0.1)\n",
        "p = out[0] * x + out[1]\n",
        "plt.plot(x, p)\n",
        "plt.savefig('fit.png')\n",
        "\n",
        "# Fit walk lengths to generalized power law, L = D * x^alpha\n",
        "# Expect linear power, alpha=1 --> L ~ x\n",
        "# TRICK: ln(L) = alpha * ln(x) + ln(D) is now linear\n",
        "logN = np.log(N_list);\n",
        "logL = np.log(L);\n",
        "out = np.polyfit(logN, logL, 1)\n",
        "print(out)"
      ],
      "execution_count": null,
      "outputs": []
    }
  ]
}