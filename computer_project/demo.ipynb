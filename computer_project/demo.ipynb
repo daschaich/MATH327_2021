{
  "nbformat": 4,
  "nbformat_minor": 0,
  "metadata": {
    "colab": {
      "name": "demo.ipynb",
      "provenance": []
    },
    "kernelspec": {
      "name": "python3",
      "display_name": "Python 3"
    }
  },
  "cells": [
    {
      "cell_type": "markdown",
      "metadata": {
        "id": "AxT4sT4xUWi6"
      },
      "source": [
        "# Introductory remarks\n",
        "This [Google Colaboratory](https://colab.research.google.com) notebook is designed to demonstrate all the Python programming tools you'll need for the MATH327 computer project.\n",
        "\n",
        "If you're completely new to [Python](https://www.python.org), or programming in general, the [official \"getting started\" information](https://wiki.python.org/moin/BeginnersGuide) is great.  It provides tutorials both for those who have never programmed before as well as for those with previous programming experience.  That said, all necessary information should appear here, so checking out those additional tutorials is entirely optional.  We are using Python in part because it is very easy to work with compared to some other programming frameworks.  It is also free and extremely widely used, making it a very valuable skill to encounter in the course of your studies.  We are also going to keep things simple---only a few dozen lines of code will be required for the project.  (A *line of code* is essentially an instruction telling the program what we want it to do.)\n",
        "\n",
        "The notebook model for running and sharing code is very popular, as it allows us to mix formatted explanations (like these) with program execution and graphics.  Colaboratory notebooks specifically can run code on a machine sitting in the [Google Cloud](https://cloud.google.com),  all for free.  If you want to save and edit a copy of this notebook, you can either set that up in a Google account, or grab the notebook from the [GitHub repository](https://github.com/daschaich/MATH327_2021/tree/master/computer_project) for the module and run it in a notebook software system of your choice, such as [Project Jupyter](https://jupyter.org)."
      ]
    },
    {
      "cell_type": "markdown",
      "metadata": {
        "id": "tvhnqc2dEy4U"
      },
      "source": [
        "# The demo itself\n",
        "Let's start by loading some convenient packages.  We will need the built-in `math` package to have a square-root (`math.sqrt`) function.  We will need the built-in `random` package to work with the pseudo-random numbers discussed in the assignment.\n",
        "\n",
        "We will also load two add-on libraries: [NumPy](https://numpy.org) to simplify numerical computing in Python, and [Matplotlib](https://matplotlib.org) to simplify plotting.  While we're getting everything set up, let's check the versions of Python, NumPy and Matplotlib.  This code last ran successfully with Python version 3.6.9, NumPy version 1.19.5 and Matplotlib version 3.2.2, but it's simple enough that other versions should also work.  Just make sure you're using Python 3.  (Python 2 is still widespread, but no longer supported.)"
      ]
    },
    {
      "cell_type": "code",
      "metadata": {
        "colab": {
          "base_uri": "https://localhost:8080/"
        },
        "id": "oVDUpI5aFB07",
        "outputId": "45d9d45a-530b-4fc5-f388-39560b59bdcd"
      },
      "source": [
        "import math\n",
        "import random\n",
        "import numpy as np\n",
        "import matplotlib as mpl\n",
        "\n",
        "from platform import python_version\n",
        "print(python_version())\n",
        "print(np.__version__)\n",
        "print(mpl.__version__)"
      ],
      "execution_count": null,
      "outputs": [
        {
          "output_type": "stream",
          "text": [
            "3.6.9\n",
            "1.19.5\n",
            "3.2.2\n"
          ],
          "name": "stdout"
        }
      ]
    },
    {
      "cell_type": "markdown",
      "metadata": {
        "id": "uNwyaAKpFEk4"
      },
      "source": [
        "The first exercise we will do is to generate 100,000 pseudo-random numbers distributed according to $p(x) = \\frac{x}{2}$ (for $0 \\leq x \\leq 2$ so that $\\int p(x) dx = 1$).\n",
        "\n",
        "First we give our pseudo-random number generator an explicit \"seed\" (in this case `42`) so that our work is easily reproducible.  Each call of the `random.random()` function then generates a pseudo-random number $u$ from a uniform distribution, $p(u) = 1$ (for $0 \\leq u \\leq 1$ so that $\\int p(u) du = 1$ as well).  As discussed in the assignment, inverse transform sampling allows us to consider $x = F(u) = 2\\sqrt{u}$ with the desired $p(x)$.\n",
        "\n",
        "We then create an array, `dat`, that contains all 100,000 samples $x$, while also accumulating **running sums** that efficientlly provide the mean $\\mu = \\langle x\\rangle$ and standard deviation $\\sigma = \\sqrt{\\langle x^2\\rangle - \\langle x\\rangle^2}$.  We initialize the array to be empty (`[]`), and then append each sample to its end.  The notation `[-1]` picks out the last entry in the array---the one that we just appended.\n",
        "\n",
        "The \"[for loop](https://en.wikipedia.org/wiki/For_loop)\" used below is a key programming concept.  In Python such loops begin with a colon (`:`) and last so long as the following lines are indented.  (Unlike most other programming frameworks, in Python [whitespace matters](https://xkcd.com/353/).)  Every instruction in the loop is repeated `nSamples` times, once for each value of `i`$ = 0$, $1$, $\\cdots$, `nSamples`$ - 1$.  (In this particular loop the value of `i` is not relevant.)\n",
        "\n",
        "In this example it's easy to analytically compute $\\mu = \\frac{4}{3}$ and $\\sigma = \\frac{\\sqrt{2}}{3}$, which 100,000 samples allow us to numerically reproduce to much better than 1% precision."
      ]
    },
    {
      "cell_type": "code",
      "metadata": {
        "colab": {
          "base_uri": "https://localhost:8080/"
        },
        "id": "Zb01zl1dJcJK",
        "outputId": "864804f1-9335-4d7f-dfa2-b7f0d16f271f"
      },
      "source": [
        "random.seed(42)\n",
        "nSamples = 100000\n",
        "dat = []\n",
        "vev = 0.0\n",
        "vevSq = 0.0\n",
        "for i in range(0, nSamples):\n",
        "  dat.append(2.0 * math.sqrt(random.random()))\n",
        "  vev += dat[-1]\n",
        "  vevSq += dat[-1] * dat[-1]\n",
        "\n",
        "vev /= nSamples\n",
        "vevSq /= nSamples\n",
        "print(\"mu =\", vev)\n",
        "print(\"sigma =\", math.sqrt(vevSq - vev*vev))"
      ],
      "execution_count": null,
      "outputs": [
        {
          "output_type": "stream",
          "text": [
            "mu = 1.333352094142587\n",
            "sigma = 0.4719633052586884\n"
          ],
          "name": "stdout"
        }
      ]
    },
    {
      "cell_type": "markdown",
      "metadata": {
        "id": "YK-xhy7DU1C0"
      },
      "source": [
        "If all we wanted were the mean and standard deviation, saving all 100,000 entries in the array `dat` would be extremely wasteful.  Here we saved them so that we can make a histogram confirming that the samples Python gave us above follow the expected probability distribution $p(x) = \\frac{x}{2}$.\n",
        "\n",
        "The `mpl.pyplot.plot` function below produces this histogram, dividing the data in the array `dat` across the 51 bins we specify.  The `density` argument normalizes the plot so that the area of the histogram adds up to $1$.  If `density` were set to false, the histogram would show the total number of samples in each bin and we would need to rescale $p(x)$ by an appropriate constant factor in order to compare it to the data.\n",
        "\n",
        "Here the comparison is done by evaluating the function $y$ for 200 points evenly distributed between $0 \\leq x \\leq 2$.  This is the standard way to plot functions in Python.  The `mpl.pyplot.plot` function adds this function to the plot that already contains the histogram, which we can then display below or save to disk.  We see very good agreement between the histogram of the samples and the desired $p(x) = \\frac{x}{2}$."
      ]
    },
    {
      "cell_type": "code",
      "metadata": {
        "colab": {
          "base_uri": "https://localhost:8080/",
          "height": 265
        },
        "id": "mtL32g-kU0Ks",
        "outputId": "f06fe35b-4a3a-45bd-b716-2934c235294d"
      },
      "source": [
        "nbins = 51\n",
        "mpl.pyplot.hist(dat, nbins, density=True)\n",
        "x = np.arange(0, 2, 0.01)\n",
        "y = 0.5 * x\n",
        "mpl.pyplot.plot(x, y)\n",
        "mpl.pyplot.show()"
      ],
      "execution_count": null,
      "outputs": [
        {
          "output_type": "display_data",
          "data": {
            "image/png": "[encoded data removed]",
            "text/plain": [
              "<Figure size 432x288 with 1 Axes>"
            ]
          },
          "metadata": {
            "tags": [],
            "needs_background": "light"
          }
        }
      ]
    },
    {
      "cell_type": "markdown",
      "metadata": {
        "id": "LP_ZBhWOxARj"
      },
      "source": [
        "Now we nest three `for` loops inside of each other, in order to analyze random walks with various numbers of steps.  The innermost loop over `step` carries out the walk, taking `Nstep` steps of random length $x$ drawn from the probability distribution $p(x)$ above, and adding these steps to the running sum `d` (for \"distance\").  In the middle loop over `i`, this `nStep` random walk is repeated 100,000 times, allowing its final length to be analyzed as a random variable, which we accumulate in the running sum `L`.  The outermost loop over `Nstep` simply repeats this entire procedure fo reach of the eight numbers of steps held by the array `N_list`.\n",
        "\n",
        "To confirm that the average walk length follows our expectation `L`$\\propto$`Nstep`, we can both print out and plot our results.\n",
        "\n",
        "(If we were pressed for time, we could re-use the first $N$ steps of each 80-step walk as an $N$-step walk.  This would produce **correlated** results, but we would only need to care about those correlations if we were carrying out careful uncertainty analyses, which are beyond the scope of this module.)"
      ]
    },
    {
      "cell_type": "code",
      "metadata": {
        "colab": {
          "base_uri": "https://localhost:8080/",
          "height": 418
        },
        "id": "Z-btvuwExMi0",
        "outputId": "2b0abb1f-68d4-4fd5-ade5-bf79b61398f4"
      },
      "source": [
        "N_list = [10, 20, 30, 40, 50, 60, 70, 80]\n",
        "L = []\n",
        "print(\"N  L\")\n",
        "for Nstep in N_list:\n",
        "  L.append(0.0)\n",
        "  for i in range(0, nSamples):\n",
        "    d = 0.0\n",
        "    for step in range(0, Nstep):\n",
        "      d += 2.0 * math.sqrt(random.random())\n",
        "    L[-1] += d\n",
        "  L[-1] /= float(nSamples)\n",
        "  print(Nstep, L[-1])\n",
        "\n",
        "mpl.pyplot.clf()\n",
        "mpl.pyplot.plot(N_list, L, linestyle='None', marker=\".\")\n",
        "mpl.pyplot.show()"
      ],
      "execution_count": null,
      "outputs": [
        {
          "output_type": "stream",
          "text": [
            "N  L\n",
            "10 13.333167540679773\n",
            "20 26.658194112196895\n",
            "30 40.00429236990038\n",
            "40 53.31085558930447\n",
            "50 66.66957649445796\n",
            "60 79.99560186598953\n",
            "70 93.32899442298724\n",
            "80 106.65289724794575\n"
          ],
          "name": "stdout"
        },
        {
          "output_type": "display_data",
          "data": {
            "image/png": "[encoded data removed]",
            "text/plain": [
              "<Figure size 432x288 with 1 Axes>"
            ]
          },
          "metadata": {
            "tags": [],
            "needs_background": "light"
          }
        }
      ]
    },
    {
      "cell_type": "markdown",
      "metadata": {
        "id": "c1w_gwUm1RhE"
      },
      "source": [
        "Suppose we are confident that `L` is a linear function of `Nstep`, $L = aN + b$, and just want to determine the slope $a$ and intercept $b$.  We can do this by using NumPy's `np.polyfit` function to fit these data to a polynomial.  The order of the polynomial (here `1`) is the third argument of this function.  By printing the output of this function, we can confirm our expectation that the slope is simply the mean of the single-step process, $\\mu = \\frac{4}{3}$, while the intercept vanishes up to our current statistical precision.\n",
        "\n",
        "We can also plot the results of the fit along with the data points already shown above, to confirm that the fit provides a good description of these data."
      ]
    },
    {
      "cell_type": "code",
      "metadata": {
        "id": "O5D8mccsUSfz",
        "colab": {
          "base_uri": "https://localhost:8080/",
          "height": 299
        },
        "outputId": "59c6e169-a394-4430-e398-d12eeecc577e"
      },
      "source": [
        "output = np.polyfit(N_list, L, 1)\n",
        "a=output[0]\n",
        "b=output[1]\n",
        "print(\"a =\", a)\n",
        "print(\"b =\", b)\n",
        "\n",
        "mpl.pyplot.clf()\n",
        "mpl.pyplot.plot(N_list, L, linestyle='None', marker=\".\")\n",
        "x = np.arange(0, 80, 0.1)\n",
        "p = output[0] * x + output[1]\n",
        "mpl.pyplot.plot(x, p)\n",
        "mpl.pyplot.show()"
      ],
      "execution_count": null,
      "outputs": [
        {
          "output_type": "stream",
          "text": [
            "a = 1.3332437605931373\n",
            "b = -0.0017717712584117953\n"
          ],
          "name": "stdout"
        },
        {
          "output_type": "display_data",
          "data": {
            "image/png": "[encoded data removed]",
            "text/plain": [
              "<Figure size 432x288 with 1 Axes>"
            ]
          },
          "metadata": {
            "tags": [],
            "needs_background": "light"
          }
        }
      ]
    },
    {
      "cell_type": "markdown",
      "metadata": {
        "id": "r_JLA8U6400P"
      },
      "source": [
        "What if we *aren't* sure that the relation between the walk length and the number of steps is linear, but we are confident that the intercept is negligible.  (After all, we can't walk very far by taking $0$ steps!)  This calls for fitting the data to a general **power law**, $L = cN^{\\alpha}$, to determine both the power $\\alpha$ and the constant of proportionality $c$.\n",
        "\n",
        "There are ways to do such power-law fits directly in Python, but there is alsa a famous trick that makes this task much simpler: We take the log of both sides of the power law, and get back to a linear relation, $\\log L = \\alpha \\log N + \\log c$.  Adapting the linear fit above then confirms that $\\alpha \\approx 1$ and $c \\approx \\mu$ to very good precision."
      ]
    },
    {
      "cell_type": "code",
      "metadata": {
        "colab": {
          "base_uri": "https://localhost:8080/",
          "height": 299
        },
        "id": "2QxrckVX1b_v",
        "outputId": "3d8030da-b738-49c8-82b7-4ce29cd8ad69"
      },
      "source": [
        "logN = np.log(N_list);\n",
        "logL = np.log(L);\n",
        "output = np.polyfit(logN, logL, 1)\n",
        "alpha = output[0]\n",
        "c=np.exp(output[1])\n",
        "print(\"alpha =\", alpha)\n",
        "print(\"c =\", c)\n",
        "\n",
        "mpl.pyplot.clf()\n",
        "mpl.pyplot.plot(N_list, L, linestyle='None', marker=\".\")\n",
        "x = np.arange(0, 80, 0.1)\n",
        "p = c * x**alpha\n",
        "mpl.pyplot.plot(x, p)\n",
        "mpl.pyplot.show()"
      ],
      "execution_count": null,
      "outputs": [
        {
          "output_type": "stream",
          "text": [
            "alpha = 1.0000081134340417\n",
            "c = 1.3331555349661957\n"
          ],
          "name": "stdout"
        },
        {
          "output_type": "display_data",
          "data": {
            "image/png": "[encoded data removed]",
            "text/plain": [
              "<Figure size 432x288 with 1 Axes>"
            ]
          },
          "metadata": {
            "tags": [],
            "needs_background": "light"
          }
        }
      ]
    },
    {
      "cell_type": "markdown",
      "metadata": {
        "id": "5liTVUhojhHB"
      },
      "source": [
        "# Postscript\n",
        "We expect the accuracy with which we reproduce the exact analytic results to improve with more data (larger `nSamples`).  Feel free to try running this notebook with larger (or smaller) `nSamples` to see whether this expectation is fulfilled."
      ]
    }
  ]
}